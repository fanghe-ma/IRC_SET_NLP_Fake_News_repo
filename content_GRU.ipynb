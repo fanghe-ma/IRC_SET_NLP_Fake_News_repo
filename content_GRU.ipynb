{
  "nbformat": 4,
  "nbformat_minor": 0,
  "metadata": {
    "colab": {
      "name": "content_GRU.ipynb",
      "provenance": [],
      "collapsed_sections": [],
      "include_colab_link": true
    },
    "kernelspec": {
      "name": "python3",
      "display_name": "Python 3"
    },
    "accelerator": "GPU"
  },
  "cells": [
    {
      "cell_type": "markdown",
      "metadata": {
        "id": "view-in-github",
        "colab_type": "text"
      },
      "source": [
        "<a href=\"https://colab.research.google.com/github/fanghe-ma/IRC_SET_NLP_Fake_News_repo/blob/master/content_GRU.ipynb\" target=\"_parent\"><img src=\"https://colab.research.google.com/assets/colab-badge.svg\" alt=\"Open In Colab\"/></a>"
      ]
    },
    {
      "cell_type": "code",
      "metadata": {
        "id": "qLID_I5NgMMC",
        "colab_type": "code",
        "colab": {
          "base_uri": "https://localhost:8080/",
          "height": 124
        },
        "outputId": "772370cd-2125-4511-f4f9-f5e9ac620483"
      },
      "source": [
        "from google.colab import drive\n",
        "drive.mount('/content/gdrive')"
      ],
      "execution_count": null,
      "outputs": [
        {
          "output_type": "stream",
          "text": [
            "Go to this URL in a browser: https://accounts.google.com/o/oauth2/auth?client_id=947318989803-6bn6qk8qdgf4n4g3pfee6491hc0brc4i.apps.googleusercontent.com&redirect_uri=urn%3aietf%3awg%3aoauth%3a2.0%3aoob&response_type=code&scope=email%20https%3a%2f%2fwww.googleapis.com%2fauth%2fdocs.test%20https%3a%2f%2fwww.googleapis.com%2fauth%2fdrive%20https%3a%2f%2fwww.googleapis.com%2fauth%2fdrive.photos.readonly%20https%3a%2f%2fwww.googleapis.com%2fauth%2fpeopleapi.readonly\n",
            "\n",
            "Enter your authorization code:\n",
            "··········\n",
            "Mounted at /content/gdrive\n"
          ],
          "name": "stdout"
        }
      ]
    },
    {
      "cell_type": "code",
      "metadata": {
        "id": "exOCspS0aKEB",
        "colab_type": "code",
        "colab": {}
      },
      "source": [
        "from keras import backend as K\n",
        "import pandas as pd\n",
        "import numpy as np\n",
        "import os\n",
        "from keras.preprocessing.text import Tokenizer\n",
        "from keras.preprocessing.sequence import pad_sequences\n",
        "import keras\n",
        "from keras.models import Sequential, Model, load_model\n",
        "from keras.layers import Dense, Embedding, Flatten, LSTM, Input, GRU\n",
        "from keras.callbacks import EarlyStopping, ModelCheckpoint\n",
        "from sklearn.metrics import confusion_matrix as cm\n",
        "\n",
        "model_file = '/content/gdrive/My Drive/My fake news stuff/project/results/content/content_GRU.h5'"
      ],
      "execution_count": null,
      "outputs": []
    },
    {
      "cell_type": "code",
      "metadata": {
        "id": "NgXaSKpRXs2I",
        "colab_type": "code",
        "colab": {}
      },
      "source": [
        "def recall_m(y_true, y_pred):\n",
        "        true_positives = K.sum(K.round(K.clip(y_true * y_pred, 0, 1)))\n",
        "        possible_positives = K.sum(K.round(K.clip(y_true, 0, 1)))\n",
        "        recall = true_positives / (possible_positives + K.epsilon())\n",
        "        return recall\n",
        "\n",
        "def precision_m(y_true, y_pred):\n",
        "        true_positives = K.sum(K.round(K.clip(y_true * y_pred, 0, 1)))\n",
        "        predicted_positives = K.sum(K.round(K.clip(y_pred, 0, 1)))\n",
        "        precision = true_positives / (predicted_positives + K.epsilon())\n",
        "        return precision\n",
        "\n",
        "def f1_m(y_true, y_pred):\n",
        "    precision = precision_m(y_true, y_pred)\n",
        "    recall = recall_m(y_true, y_pred)\n",
        "    return 2*((precision*recall)/(precision+recall+K.epsilon()))\n",
        "\n",
        "class Data():\n",
        "  '''\n",
        "  Data object to facilitate loading data for training or testing\n",
        "\n",
        "  3 data files\n",
        "  popat_2019_res.csv - evi from Popat et al., 2019,, claim vs evidence/reporting article\n",
        "  popat_2019_modified_res.csv - evi from google, 'distant supervision', article vs evidence\n",
        "  liar_res.csv - evi from google, claim vs evidence \n",
        "\n",
        "  instantiating a data object takes one argument\n",
        "    mode :\n",
        "      all : returns all 3 datasets, merged and shuffled\n",
        "      \n",
        "  '''\n",
        "\n",
        "  files = ['/content/gdrive/My Drive/My fake news stuff/project/data/' + file for file in os.listdir('/content/gdrive/My Drive/My fake news stuff/project/data')]\n",
        "  test_split = 0.1\n",
        "  max_words = 60000\n",
        "  maxlen = 500\n",
        "\n",
        "\n",
        "  def __init__(self, return_all = False):\n",
        "    if return_all:\n",
        "      self.return_all = True\n",
        "    else:\n",
        "      self.return_all = False\n",
        "\n",
        "    self.target_files = self.get_file(return_all)\n",
        "    self.tokenizer = self.get_tokenizer()\n",
        "\n",
        "  def get_tokenizer(self):\n",
        "    frames = []\n",
        "    for file in self.files:\n",
        "      if file[-4:] == '.csv':\n",
        "        df = pd.read_csv(file, index_col = 0)\n",
        "        df = df.dropna()\n",
        "        frames.append(df)\n",
        "    res = pd.concat(frames)\n",
        "    tokenizer = Tokenizer(num_words = self.max_words)\n",
        "    print('fitting on corpus')\n",
        "    tokenizer.fit_on_texts(res['article'])\n",
        "    tokenizer.fit_on_texts(res['evidence'])\n",
        "    print('fitting completed')\n",
        "    return tokenizer\n",
        "\n",
        "  def vectorize_data(self, input_arr, t, maxlen):\n",
        "    print('vectorizing data')\n",
        "    input_list = input_arr.tolist() \n",
        "    seq = t.texts_to_sequences(input_list)\n",
        "    output = pad_sequences(seq, maxlen = maxlen)\n",
        "    return output\n",
        "  \n",
        "  def get_file(self, return_all):\n",
        "    if return_all:\n",
        "      target_files = self.files\n",
        "    else:\n",
        "      target_files = []\n",
        "      for file in self.files:\n",
        "        state = input(file + ': y/n?')\n",
        "        if state == 'y':\n",
        "          target_files.append(file)\n",
        "\n",
        "    return target_files\n",
        "  \n",
        "  def load_data(self):\n",
        "    frames = []\n",
        "    for file in self.target_files:\n",
        "        if file[-4:] == '.csv':\n",
        "            df = pd.read_csv(file, index_col = 0)\n",
        "            df = df.dropna()\n",
        "            frames.append(df)\n",
        "\n",
        "    res = pd.concat(frames) #join frames\n",
        "    print('dataframes read')\n",
        "    res = res.sample(frac = 1) #shuffles frame\n",
        "\n",
        "    article = np.asarray(res['article'])\n",
        "    label = np.asarray(res['label'])\n",
        "    evidence = np.asarray(res['evidence'])\n",
        "\n",
        "    split = self.test_split\n",
        "    assert article.shape[0] == label.shape[0]\n",
        "    assert article.shape[0] == evidence.shape[0]\n",
        "    length = article.shape[0]\n",
        "\n",
        "    print('debug 1')\n",
        "\n",
        "    article = self.vectorize_data(article, self.tokenizer, self.maxlen)\n",
        "    evidence = self.vectorize_data(evidence, self.tokenizer, self.maxlen)\n",
        "\n",
        "    print('debug 2')\n",
        "\n",
        "\n",
        "    test_len = int(length * split) * -1\n",
        "    train_data = (article[:test_len], evidence[:test_len], label[:test_len])\n",
        "    test_data = (article[test_len:], evidence[test_len:], label[test_len:])\n",
        "\n",
        "    return train_data, test_data\n",
        "\n",
        "  def get_ratio(self):\n",
        "    true_count = 0\n",
        "    fake_count = 0\n",
        "    for i in range(len(list(self.res['title']))):\n",
        "      if self.res.iloc[i]['label'] == 0:\n",
        "        fake_count += 1\n",
        "      elif self.res.iloc[i]['label']== 1:\n",
        "        true_count += 1 \n",
        "    \n",
        "    return (true_count, fake_count, true_count / fake_count)\n",
        "\n"
      ],
      "execution_count": null,
      "outputs": []
    },
    {
      "cell_type": "code",
      "metadata": {
        "id": "wSig6F2eYSGn",
        "colab_type": "code",
        "colab": {
          "base_uri": "https://localhost:8080/",
          "height": 138
        },
        "outputId": "478a0253-c779-456b-9800-451bb1cbd855"
      },
      "source": [
        "data = Data(return_all = True)\n",
        "train_data, test_data = data.load_data()\n",
        "\n",
        "\n",
        "\n",
        "word_index = data.tokenizer.word_index\n",
        "embeddings_index = {}\n",
        "f = open('/content/gdrive/My Drive/My fake news stuff/project/glove/glove.6B.100d.txt')\n",
        "for line in f:\n",
        "    values = line.split()\n",
        "    word = values[0]\n",
        "    coefs = np.asarray(values[1:], dtype='float32')\n",
        "    embeddings_index[word] = coefs\n",
        "f.close()\n",
        "\n",
        "embedding_dim = 100\n",
        "max_words = data.max_words\n",
        "maxlen = data.maxlen\n",
        "embedding_matrix = np.zeros((max_words, embedding_dim))\n",
        "for word, i in word_index.items():\n",
        "    if i < max_words:\n",
        "        embedding_vector = embeddings_index.get(word)\n",
        "        if embedding_vector is not None:\n",
        "            embedding_matrix[i] = embedding_vector"
      ],
      "execution_count": null,
      "outputs": [
        {
          "output_type": "stream",
          "text": [
            "fitting on corpus\n",
            "fitting completed\n",
            "dataframes read\n",
            "debug 1\n",
            "vectorizing data\n",
            "vectorizing data\n",
            "debug 2\n"
          ],
          "name": "stdout"
        }
      ]
    },
    {
      "cell_type": "code",
      "metadata": {
        "id": "63o2M1Fmau6G",
        "colab_type": "code",
        "colab": {
          "base_uri": "https://localhost:8080/",
          "height": 470
        },
        "outputId": "dae6dc54-1483-42a1-cb8a-bb461db8a430"
      },
      "source": [
        "model = Sequential()\n",
        "model.add(Embedding(max_words, 100, input_length=maxlen))\n",
        "model.add(GRU(32))\n",
        "model.add(Dense(16, activation = 'relu'))\n",
        "model.add(Dense(1, activation='sigmoid'))\n",
        "\n",
        "model.layers[0].set_weights([embedding_matrix])\n",
        "\n",
        "model.compile(\n",
        "            optimizer='rmsprop',\n",
        "            loss='binary_crossentropy',\n",
        "            metrics=['acc', f1_m, precision_m, recall_m])\n",
        "\n"
      ],
      "execution_count": null,
      "outputs": [
        {
          "output_type": "stream",
          "text": [
            "WARNING:tensorflow:From /usr/local/lib/python3.6/dist-packages/keras/backend/tensorflow_backend.py:66: The name tf.get_default_graph is deprecated. Please use tf.compat.v1.get_default_graph instead.\n",
            "\n",
            "WARNING:tensorflow:From /usr/local/lib/python3.6/dist-packages/keras/backend/tensorflow_backend.py:541: The name tf.placeholder is deprecated. Please use tf.compat.v1.placeholder instead.\n",
            "\n",
            "WARNING:tensorflow:From /usr/local/lib/python3.6/dist-packages/keras/backend/tensorflow_backend.py:4432: The name tf.random_uniform is deprecated. Please use tf.random.uniform instead.\n",
            "\n",
            "WARNING:tensorflow:From /usr/local/lib/python3.6/dist-packages/keras/backend/tensorflow_backend.py:190: The name tf.get_default_session is deprecated. Please use tf.compat.v1.get_default_session instead.\n",
            "\n",
            "WARNING:tensorflow:From /usr/local/lib/python3.6/dist-packages/keras/backend/tensorflow_backend.py:197: The name tf.ConfigProto is deprecated. Please use tf.compat.v1.ConfigProto instead.\n",
            "\n",
            "WARNING:tensorflow:From /usr/local/lib/python3.6/dist-packages/keras/backend/tensorflow_backend.py:203: The name tf.Session is deprecated. Please use tf.compat.v1.Session instead.\n",
            "\n",
            "WARNING:tensorflow:From /usr/local/lib/python3.6/dist-packages/keras/backend/tensorflow_backend.py:207: The name tf.global_variables is deprecated. Please use tf.compat.v1.global_variables instead.\n",
            "\n",
            "WARNING:tensorflow:From /usr/local/lib/python3.6/dist-packages/keras/backend/tensorflow_backend.py:216: The name tf.is_variable_initialized is deprecated. Please use tf.compat.v1.is_variable_initialized instead.\n",
            "\n",
            "WARNING:tensorflow:From /usr/local/lib/python3.6/dist-packages/keras/backend/tensorflow_backend.py:223: The name tf.variables_initializer is deprecated. Please use tf.compat.v1.variables_initializer instead.\n",
            "\n",
            "WARNING:tensorflow:From /usr/local/lib/python3.6/dist-packages/keras/optimizers.py:793: The name tf.train.Optimizer is deprecated. Please use tf.compat.v1.train.Optimizer instead.\n",
            "\n",
            "WARNING:tensorflow:From /usr/local/lib/python3.6/dist-packages/keras/backend/tensorflow_backend.py:3657: The name tf.log is deprecated. Please use tf.math.log instead.\n",
            "\n",
            "WARNING:tensorflow:From /usr/local/lib/python3.6/dist-packages/tensorflow_core/python/ops/nn_impl.py:183: where (from tensorflow.python.ops.array_ops) is deprecated and will be removed in a future version.\n",
            "Instructions for updating:\n",
            "Use tf.where in 2.0, which has the same broadcast rule as np.where\n"
          ],
          "name": "stdout"
        }
      ]
    },
    {
      "cell_type": "code",
      "metadata": {
        "id": "UUHrNNkhsgTW",
        "colab_type": "code",
        "colab": {}
      },
      "source": [
        "from keras.callbacks import EarlyStopping, ModelCheckpoint\n",
        "es = EarlyStopping(\n",
        "      monitor = 'val_loss', \n",
        "      mode = 'min', \n",
        "      verbose = 1, \n",
        "      patience = 1)\n",
        "\n",
        "mc = ModelCheckpoint(\n",
        "      '/content/gdrive/My Drive/My fake news stuff/project/results/content/content_GRU.h5', \n",
        "      monitor = 'val_loss', \n",
        "      mode = 'min', \n",
        "      verbose = 1, \n",
        "      save_best_only = True, \n",
        "      save_weights_only = False)\n"
      ],
      "execution_count": null,
      "outputs": []
    },
    {
      "cell_type": "code",
      "metadata": {
        "id": "zCF39yOV170K",
        "colab_type": "code",
        "colab": {
          "base_uri": "https://localhost:8080/",
          "height": 557
        },
        "outputId": "ce3c14f7-d2b7-4a46-96a5-4cc90626b47e"
      },
      "source": [
        "class_weight = {\n",
        "    0 : 1,\n",
        "    1 : 2.5\n",
        "}\n",
        "\n",
        "history = model.fit(\n",
        "    train_data[0],\n",
        "    train_data[-1],\n",
        "    epochs=20,\n",
        "    validation_split=0.1,\n",
        "    batch_size = 512,\n",
        "    callbacks = [es, mc],\n",
        "    class_weight = class_weight\n",
        "    )"
      ],
      "execution_count": null,
      "outputs": [
        {
          "output_type": "stream",
          "text": [
            "WARNING:tensorflow:From /usr/local/lib/python3.6/dist-packages/keras/backend/tensorflow_backend.py:1033: The name tf.assign_add is deprecated. Please use tf.compat.v1.assign_add instead.\n",
            "\n",
            "WARNING:tensorflow:From /usr/local/lib/python3.6/dist-packages/keras/backend/tensorflow_backend.py:1020: The name tf.assign is deprecated. Please use tf.compat.v1.assign instead.\n",
            "\n",
            "Train on 105607 samples, validate on 11735 samples\n",
            "Epoch 1/20\n",
            "105607/105607 [==============================] - 306s 3ms/step - loss: 0.9435 - acc: 0.5800 - f1_m: 0.4846 - precision_m: 0.3865 - recall_m: 0.6748 - val_loss: 0.8620 - val_acc: 0.6026 - val_f1_m: 0.5676 - val_precision_m: 0.4210 - val_recall_m: 0.8726\n",
            "\n",
            "Epoch 00001: val_loss improved from inf to 0.86202, saving model to /content/gdrive/My Drive/My fake news stuff/project/results/content/content_GRU.h5\n",
            "Epoch 2/20\n",
            "105607/105607 [==============================] - 306s 3ms/step - loss: 0.6928 - acc: 0.7583 - f1_m: 0.6663 - precision_m: 0.5750 - recall_m: 0.8087 - val_loss: 0.5910 - val_acc: 0.8046 - val_f1_m: 0.7198 - val_precision_m: 0.6302 - val_recall_m: 0.8404\n",
            "\n",
            "Epoch 00002: val_loss improved from 0.86202 to 0.59104, saving model to /content/gdrive/My Drive/My fake news stuff/project/results/content/content_GRU.h5\n",
            "Epoch 3/20\n",
            "105607/105607 [==============================] - 304s 3ms/step - loss: 0.4848 - acc: 0.8456 - f1_m: 0.7709 - precision_m: 0.6966 - recall_m: 0.8730 - val_loss: 0.5306 - val_acc: 0.8672 - val_f1_m: 0.7747 - val_precision_m: 0.7853 - val_recall_m: 0.7658\n",
            "\n",
            "Epoch 00003: val_loss improved from 0.59104 to 0.53056, saving model to /content/gdrive/My Drive/My fake news stuff/project/results/content/content_GRU.h5\n",
            "Epoch 4/20\n",
            "105607/105607 [==============================] - 303s 3ms/step - loss: 0.3673 - acc: 0.8866 - f1_m: 0.8259 - precision_m: 0.7634 - recall_m: 0.9055 - val_loss: 0.4693 - val_acc: 0.8192 - val_f1_m: 0.7574 - val_precision_m: 0.6329 - val_recall_m: 0.9442\n",
            "\n",
            "Epoch 00004: val_loss improved from 0.53056 to 0.46927, saving model to /content/gdrive/My Drive/My fake news stuff/project/results/content/content_GRU.h5\n",
            "Epoch 5/20\n",
            "105607/105607 [==============================] - 304s 3ms/step - loss: 0.2978 - acc: 0.9086 - f1_m: 0.8575 - precision_m: 0.8012 - recall_m: 0.9265 - val_loss: 0.4213 - val_acc: 0.8489 - val_f1_m: 0.7850 - val_precision_m: 0.6832 - val_recall_m: 0.9238\n",
            "\n",
            "Epoch 00005: val_loss improved from 0.46927 to 0.42134, saving model to /content/gdrive/My Drive/My fake news stuff/project/results/content/content_GRU.h5\n",
            "Epoch 6/20\n",
            "105607/105607 [==============================] - 304s 3ms/step - loss: 0.2485 - acc: 0.9239 - f1_m: 0.8800 - precision_m: 0.8296 - recall_m: 0.9400 - val_loss: 0.4491 - val_acc: 0.8341 - val_f1_m: 0.7735 - val_precision_m: 0.6536 - val_recall_m: 0.9489\n",
            "\n",
            "Epoch 00006: val_loss did not improve from 0.42134\n",
            "Epoch 00006: early stopping\n"
          ],
          "name": "stdout"
        }
      ]
    }
  ]
}