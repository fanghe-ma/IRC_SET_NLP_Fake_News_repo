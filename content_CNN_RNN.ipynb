{
  "nbformat": 4,
  "nbformat_minor": 0,
  "metadata": {
    "colab": {
      "name": "content_CNN_RNN.ipynb",
      "provenance": [],
      "collapsed_sections": [],
      "include_colab_link": true
    },
    "kernelspec": {
      "name": "python3",
      "display_name": "Python 3"
    },
    "accelerator": "GPU"
  },
  "cells": [
    {
      "cell_type": "markdown",
      "metadata": {
        "id": "view-in-github",
        "colab_type": "text"
      },
      "source": [
        "<a href=\"https://colab.research.google.com/github/fanghe-ma/IRC_SET_NLP_Fake_News_repo/blob/master/content_CNN_RNN.ipynb\" target=\"_parent\"><img src=\"https://colab.research.google.com/assets/colab-badge.svg\" alt=\"Open In Colab\"/></a>"
      ]
    },
    {
      "cell_type": "code",
      "metadata": {
        "id": "qLID_I5NgMMC",
        "colab_type": "code",
        "colab": {
          "base_uri": "https://localhost:8080/",
          "height": 54
        },
        "outputId": "5a9893a4-4b45-4368-d14c-a715d4ff7ed2"
      },
      "source": [
        "from google.colab import drive\n",
        "drive.mount('/content/gdrive')"
      ],
      "execution_count": null,
      "outputs": [
        {
          "output_type": "stream",
          "text": [
            "Drive already mounted at /content/gdrive; to attempt to forcibly remount, call drive.mount(\"/content/gdrive\", force_remount=True).\n"
          ],
          "name": "stdout"
        }
      ]
    },
    {
      "cell_type": "code",
      "metadata": {
        "id": "exOCspS0aKEB",
        "colab_type": "code",
        "colab": {}
      },
      "source": [
        "from keras import backend as K\n",
        "import pandas as pd\n",
        "import numpy as np\n",
        "import os\n",
        "from keras.preprocessing.text import Tokenizer\n",
        "from keras.preprocessing.sequence import pad_sequences\n",
        "import keras\n",
        "from keras.models import Sequential, Model, load_model\n",
        "from keras.layers import Dense, Embedding, Flatten, LSTM, Input, GRU, Conv1D, MaxPooling1D\n",
        "from keras.callbacks import EarlyStopping, ModelCheckpoint\n",
        "from sklearn.metrics import confusion_matrix as cm\n",
        "\n",
        "model_file = '/content/gdrive/My Drive/My fake news stuff/project/results/content/content_CNN_RNN.h5'"
      ],
      "execution_count": null,
      "outputs": []
    },
    {
      "cell_type": "code",
      "metadata": {
        "id": "NgXaSKpRXs2I",
        "colab_type": "code",
        "colab": {}
      },
      "source": [
        "def recall_m(y_true, y_pred):\n",
        "        true_positives = K.sum(K.round(K.clip(y_true * y_pred, 0, 1)))\n",
        "        possible_positives = K.sum(K.round(K.clip(y_true, 0, 1)))\n",
        "        recall = true_positives / (possible_positives + K.epsilon())\n",
        "        return recall\n",
        "\n",
        "def precision_m(y_true, y_pred):\n",
        "        true_positives = K.sum(K.round(K.clip(y_true * y_pred, 0, 1)))\n",
        "        predicted_positives = K.sum(K.round(K.clip(y_pred, 0, 1)))\n",
        "        precision = true_positives / (predicted_positives + K.epsilon())\n",
        "        return precision\n",
        "\n",
        "def f1_m(y_true, y_pred):\n",
        "    precision = precision_m(y_true, y_pred)\n",
        "    recall = recall_m(y_true, y_pred)\n",
        "    return 2*((precision*recall)/(precision+recall+K.epsilon()))\n",
        "\n",
        "class Data():\n",
        "  '''\n",
        "  Data object to facilitate loading data for training or testing\n",
        "\n",
        "  3 data files\n",
        "  popat_2019_res.csv - evi from Popat et al., 2019,, claim vs evidence/reporting article\n",
        "  popat_2019_modified_res.csv - evi from google, 'distant supervision', article vs evidence\n",
        "  liar_res.csv - evi from google, claim vs evidence \n",
        "\n",
        "  instantiating a data object takes one argument\n",
        "    mode :\n",
        "      all : returns all 3 datasets, merged and shuffled\n",
        "      \n",
        "  '''\n",
        "\n",
        "  files = ['/content/gdrive/My Drive/My fake news stuff/project/data/' + file for file in os.listdir('/content/gdrive/My Drive/My fake news stuff/project/data')]\n",
        "  test_split = 0.1\n",
        "  max_words = 60000\n",
        "  maxlen = 500\n",
        "\n",
        "\n",
        "  def __init__(self, return_all = False):\n",
        "    if return_all:\n",
        "      self.return_all = True\n",
        "    else:\n",
        "      self.return_all = False\n",
        "\n",
        "    self.target_files = self.get_file(return_all)\n",
        "    self.tokenizer = self.get_tokenizer()\n",
        "\n",
        "  def get_tokenizer(self):\n",
        "    frames = []\n",
        "    for file in self.files:\n",
        "      if file[-4:] == '.csv':\n",
        "        df = pd.read_csv(file, index_col = 0)\n",
        "        df = df.dropna()\n",
        "        frames.append(df)\n",
        "    res = pd.concat(frames)\n",
        "    tokenizer = Tokenizer(num_words = self.max_words)\n",
        "    print('fitting on corpus')\n",
        "    tokenizer.fit_on_texts(res['article'])\n",
        "    tokenizer.fit_on_texts(res['evidence'])\n",
        "    print('fitting completed')\n",
        "    return tokenizer\n",
        "\n",
        "  def vectorize_data(self, input_arr, t, maxlen):\n",
        "    print('vectorizing data')\n",
        "    input_list = input_arr.tolist() \n",
        "    seq = t.texts_to_sequences(input_list)\n",
        "    output = pad_sequences(seq, maxlen = maxlen)\n",
        "    return output\n",
        "  \n",
        "  def get_file(self, return_all):\n",
        "    if return_all:\n",
        "      target_files = self.files\n",
        "    else:\n",
        "      target_files = []\n",
        "      for file in self.files:\n",
        "        state = input(file + ': y/n?')\n",
        "        if state == 'y':\n",
        "          target_files.append(file)\n",
        "\n",
        "    return target_files\n",
        "  \n",
        "  def load_data(self):\n",
        "    frames = []\n",
        "    for file in self.target_files:\n",
        "        if file[-4:] == '.csv':\n",
        "            df = pd.read_csv(file, index_col = 0)\n",
        "            df = df.dropna()\n",
        "            frames.append(df)\n",
        "\n",
        "    res = pd.concat(frames) #join frames\n",
        "    print('dataframes read')\n",
        "    res = res.sample(frac = 1) #shuffles frame\n",
        "\n",
        "    article = np.asarray(res['article'])\n",
        "    label = np.asarray(res['label'])\n",
        "    evidence = np.asarray(res['evidence'])\n",
        "\n",
        "    split = self.test_split\n",
        "    assert article.shape[0] == label.shape[0]\n",
        "    assert article.shape[0] == evidence.shape[0]\n",
        "    length = article.shape[0]\n",
        "\n",
        "    print('debug 1')\n",
        "\n",
        "    article = self.vectorize_data(article, self.tokenizer, self.maxlen)\n",
        "    evidence = self.vectorize_data(evidence, self.tokenizer, self.maxlen)\n",
        "\n",
        "    print('debug 2')\n",
        "\n",
        "\n",
        "    test_len = int(length * split) * -1\n",
        "    train_data = (article[:test_len], evidence[:test_len], label[:test_len])\n",
        "    test_data = (article[test_len:], evidence[test_len:], label[test_len:])\n",
        "\n",
        "    return train_data, test_data\n",
        "\n",
        "  def get_ratio(self):\n",
        "    true_count = 0\n",
        "    fake_count = 0\n",
        "    for i in range(len(list(self.res['title']))):\n",
        "      if self.res.iloc[i]['label'] == 0:\n",
        "        fake_count += 1\n",
        "      elif self.res.iloc[i]['label']== 1:\n",
        "        true_count += 1 \n",
        "    \n",
        "    return (true_count, fake_count, true_count / fake_count)\n",
        "\n"
      ],
      "execution_count": null,
      "outputs": []
    },
    {
      "cell_type": "code",
      "metadata": {
        "id": "wSig6F2eYSGn",
        "colab_type": "code",
        "colab": {
          "base_uri": "https://localhost:8080/",
          "height": 138
        },
        "outputId": "1e926758-e1f5-42b3-bb1b-cd0d9bd54569"
      },
      "source": [
        "data = Data(return_all = True)\n",
        "train_data, test_data = data.load_data()\n",
        "article_input = train_data[0]\n",
        "y_train = train_data[-1]\n",
        "\n",
        "word_index = data.tokenizer.word_index\n",
        "\n",
        "\n",
        "embeddings_index = {}\n",
        "f = open('/content/gdrive/My Drive/My fake news stuff/project/glove/glove.6B.100d.txt')\n",
        "for line in f:\n",
        "    values = line.split()\n",
        "    word = values[0]\n",
        "    coefs = np.asarray(values[1:], dtype='float32')\n",
        "    embeddings_index[word] = coefs\n",
        "f.close()\n",
        "\n",
        "embedding_dim = 100\n",
        "max_words = data.max_words\n",
        "maxlen = data.maxlen\n",
        "embedding_matrix = np.zeros((max_words, embedding_dim))\n",
        "for word, i in word_index.items():\n",
        "    if i < max_words:\n",
        "        embedding_vector = embeddings_index.get(word)\n",
        "        if embedding_vector is not None:\n",
        "            embedding_matrix[i] = embedding_vector"
      ],
      "execution_count": null,
      "outputs": [
        {
          "output_type": "stream",
          "text": [
            "fitting on corpus\n",
            "fitting completed\n",
            "dataframes read\n",
            "debug 1\n",
            "vectorizing data\n",
            "vectorizing data\n",
            "debug 2\n"
          ],
          "name": "stdout"
        }
      ]
    },
    {
      "cell_type": "code",
      "metadata": {
        "id": "63o2M1Fmau6G",
        "colab_type": "code",
        "colab": {}
      },
      "source": [
        "model = Sequential()\n",
        "model.add(Embedding(max_words, 100, input_length=maxlen))\n",
        "#model.add(LSTM(32))\n",
        "model.add(Conv1D(32, 7, activation = 'relu'))\n",
        "model.add(MaxPooling1D(5))\n",
        "model.add(Conv1D(32, 7, activation = 'relu'))\n",
        "model.add(LSTM(32))\n",
        "model.add(Dense(1, activation='sigmoid'))\n",
        "\n",
        "model.layers[0].set_weights([embedding_matrix])\n",
        "\n",
        "model.compile(\n",
        "            optimizer='rmsprop',\n",
        "            loss='binary_crossentropy',\n",
        "            metrics=['acc', f1_m, precision_m, recall_m])\n",
        "\n"
      ],
      "execution_count": null,
      "outputs": []
    },
    {
      "cell_type": "code",
      "metadata": {
        "id": "UUHrNNkhsgTW",
        "colab_type": "code",
        "colab": {}
      },
      "source": [
        "from keras.callbacks import EarlyStopping, ModelCheckpoint\n",
        "es = EarlyStopping(\n",
        "      monitor = 'val_loss', \n",
        "      mode = 'min', \n",
        "      verbose = 1, \n",
        "      patience = 1)\n",
        "\n",
        "mc = ModelCheckpoint(\n",
        "      '/content/gdrive/My Drive/My fake news stuff/project/results/content/content_CNN_RNN.h5', \n",
        "      monitor = 'val_loss', \n",
        "      mode = 'min', \n",
        "      verbose = 1, \n",
        "      save_best_only = True, \n",
        "      save_weights_only = False)\n"
      ],
      "execution_count": null,
      "outputs": []
    },
    {
      "cell_type": "code",
      "metadata": {
        "id": "zCF39yOV170K",
        "colab_type": "code",
        "colab": {
          "base_uri": "https://localhost:8080/",
          "height": 488
        },
        "outputId": "d86bb795-7a45-4f11-de87-7b9e81a401fa"
      },
      "source": [
        "class_weight = {\n",
        "    0 : 1,\n",
        "    1 : 2.5\n",
        "}\n",
        "\n",
        "history = model.fit(\n",
        "    article_input,\n",
        "    y_train,\n",
        "    epochs=20,\n",
        "    validation_split=0.1,\n",
        "    batch_size = 512,\n",
        "    callbacks = [es, mc],\n",
        "    class_weight = class_weight\n",
        "    )"
      ],
      "execution_count": null,
      "outputs": [
        {
          "output_type": "stream",
          "text": [
            "Train on 105607 samples, validate on 11735 samples\n",
            "Epoch 1/20\n",
            "105607/105607 [==============================] - 36s 342us/step - loss: 0.9272 - acc: 0.5751 - f1_m: 0.5020 - precision_m: 0.4042 - recall_m: 0.7246 - val_loss: 0.8436 - val_acc: 0.7442 - val_f1_m: 0.5343 - val_precision_m: 0.5655 - val_recall_m: 0.5079\n",
            "\n",
            "Epoch 00001: val_loss improved from inf to 0.84365, saving model to /content/gdrive/My Drive/My fake news stuff/project/results/content/content_CNN_RNN.h5\n",
            "Epoch 2/20\n",
            "105607/105607 [==============================] - 35s 332us/step - loss: 0.6785 - acc: 0.7393 - f1_m: 0.6558 - precision_m: 0.5553 - recall_m: 0.8281 - val_loss: 0.6020 - val_acc: 0.7646 - val_f1_m: 0.6800 - val_precision_m: 0.5605 - val_recall_m: 0.8655\n",
            "\n",
            "Epoch 00002: val_loss improved from 0.84365 to 0.60200, saving model to /content/gdrive/My Drive/My fake news stuff/project/results/content/content_CNN_RNN.h5\n",
            "Epoch 3/20\n",
            "105607/105607 [==============================] - 35s 331us/step - loss: 0.5109 - acc: 0.8221 - f1_m: 0.7449 - precision_m: 0.6661 - recall_m: 0.8646 - val_loss: 0.5811 - val_acc: 0.8424 - val_f1_m: 0.7307 - val_precision_m: 0.7235 - val_recall_m: 0.7392\n",
            "\n",
            "Epoch 00003: val_loss improved from 0.60200 to 0.58113, saving model to /content/gdrive/My Drive/My fake news stuff/project/results/content/content_CNN_RNN.h5\n",
            "Epoch 4/20\n",
            "105607/105607 [==============================] - 35s 336us/step - loss: 0.4020 - acc: 0.8672 - f1_m: 0.8010 - precision_m: 0.7357 - recall_m: 0.8915 - val_loss: 0.4794 - val_acc: 0.8618 - val_f1_m: 0.7726 - val_precision_m: 0.7376 - val_recall_m: 0.8121\n",
            "\n",
            "Epoch 00004: val_loss improved from 0.58113 to 0.47944, saving model to /content/gdrive/My Drive/My fake news stuff/project/results/content/content_CNN_RNN.h5\n",
            "Epoch 5/20\n",
            "105607/105607 [==============================] - 35s 328us/step - loss: 0.3206 - acc: 0.8971 - f1_m: 0.8421 - precision_m: 0.7873 - recall_m: 0.9134 - val_loss: 0.4692 - val_acc: 0.8679 - val_f1_m: 0.7824 - val_precision_m: 0.7491 - val_recall_m: 0.8199\n",
            "\n",
            "Epoch 00005: val_loss improved from 0.47944 to 0.46920, saving model to /content/gdrive/My Drive/My fake news stuff/project/results/content/content_CNN_RNN.h5\n",
            "Epoch 6/20\n",
            "105607/105607 [==============================] - 35s 332us/step - loss: 0.2626 - acc: 0.9175 - f1_m: 0.8706 - precision_m: 0.8258 - recall_m: 0.9272 - val_loss: 0.5734 - val_acc: 0.8667 - val_f1_m: 0.7732 - val_precision_m: 0.7616 - val_recall_m: 0.7860\n",
            "\n",
            "Epoch 00006: val_loss did not improve from 0.46920\n",
            "Epoch 00006: early stopping\n"
          ],
          "name": "stdout"
        }
      ]
    }
  ]
}