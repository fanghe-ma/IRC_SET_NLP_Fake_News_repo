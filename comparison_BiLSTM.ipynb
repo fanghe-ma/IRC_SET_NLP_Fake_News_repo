{
  "nbformat": 4,
  "nbformat_minor": 0,
  "metadata": {
    "colab": {
      "name": "comparison_BiLSTM.ipynb",
      "provenance": [],
      "collapsed_sections": [],
      "include_colab_link": true
    },
    "kernelspec": {
      "name": "python3",
      "display_name": "Python 3"
    },
    "accelerator": "TPU"
  },
  "cells": [
    {
      "cell_type": "markdown",
      "metadata": {
        "id": "view-in-github",
        "colab_type": "text"
      },
      "source": [
        "<a href=\"https://colab.research.google.com/github/fanghe-ma/IRC_SET_NLP_Fake_News_repo/blob/master/comparison_BiLSTM.ipynb\" target=\"_parent\"><img src=\"https://colab.research.google.com/assets/colab-badge.svg\" alt=\"Open In Colab\"/></a>"
      ]
    },
    {
      "cell_type": "code",
      "metadata": {
        "id": "qLID_I5NgMMC",
        "colab_type": "code",
        "colab": {
          "base_uri": "https://localhost:8080/",
          "height": 34
        },
        "outputId": "5170fc96-0642-452b-cc75-b7995010e110"
      },
      "source": [
        "from google.colab import drive\n",
        "drive.mount('/content/gdrive')"
      ],
      "execution_count": null,
      "outputs": [
        {
          "output_type": "stream",
          "text": [
            "Drive already mounted at /content/gdrive; to attempt to forcibly remount, call drive.mount(\"/content/gdrive\", force_remount=True).\n"
          ],
          "name": "stdout"
        }
      ]
    },
    {
      "cell_type": "code",
      "metadata": {
        "id": "exOCspS0aKEB",
        "colab_type": "code",
        "colab": {}
      },
      "source": [
        "from keras import backend as K\n",
        "import pandas as pd\n",
        "import numpy as np\n",
        "import os\n",
        "from keras.preprocessing.text import Tokenizer\n",
        "from keras.preprocessing.sequence import pad_sequences\n",
        "import keras\n",
        "from keras.models import Sequential, Model, load_model\n",
        "from keras.layers import Dense, Embedding, Flatten, LSTM, Input, Bidirectional\n",
        "from keras.callbacks import EarlyStopping, ModelCheckpoint\n",
        "from sklearn.metrics import confusion_matrix as cm\n",
        "from keras.initializers import Constant\n",
        "\n",
        "model_file = '/content/gdrive/My Drive/My fake news stuff/project/results/comparison/comparison_BiLSTM.h5'"
      ],
      "execution_count": null,
      "outputs": []
    },
    {
      "cell_type": "code",
      "metadata": {
        "id": "NgXaSKpRXs2I",
        "colab_type": "code",
        "colab": {}
      },
      "source": [
        "def recall_m(y_true, y_pred):\n",
        "        true_positives = K.sum(K.round(K.clip(y_true * y_pred, 0, 1)))\n",
        "        possible_positives = K.sum(K.round(K.clip(y_true, 0, 1)))\n",
        "        recall = true_positives / (possible_positives + K.epsilon())\n",
        "        return recall\n",
        "\n",
        "def precision_m(y_true, y_pred):\n",
        "        true_positives = K.sum(K.round(K.clip(y_true * y_pred, 0, 1)))\n",
        "        predicted_positives = K.sum(K.round(K.clip(y_pred, 0, 1)))\n",
        "        precision = true_positives / (predicted_positives + K.epsilon())\n",
        "        return precision\n",
        "\n",
        "def f1_m(y_true, y_pred):\n",
        "    precision = precision_m(y_true, y_pred)\n",
        "    recall = recall_m(y_true, y_pred)\n",
        "    return 2*((precision*recall)/(precision+recall+K.epsilon()))\n",
        "\n",
        "class Data():\n",
        "  '''\n",
        "  Data object to facilitate loading data for training or testing\n",
        "\n",
        "  3 data files\n",
        "  popat_2019_res.csv - evi from Popat et al., 2019,, claim vs evidence/reporting article\n",
        "  popat_2019_modified_res.csv - evi from google, 'distant supervision', article vs evidence\n",
        "  liar_res.csv - evi from google, claim vs evidence \n",
        "\n",
        "  instantiating a data object takes one argument\n",
        "    mode :\n",
        "      all : returns all 3 datasets, merged and shuffled\n",
        "      \n",
        "  '''\n",
        "\n",
        "  files = ['/content/gdrive/My Drive/My fake news stuff/project/data/' + file for file in os.listdir('/content/gdrive/My Drive/My fake news stuff/project/data')]\n",
        "  test_split = 0.1\n",
        "  max_words = 60000\n",
        "  maxlen = 500\n",
        "\n",
        "\n",
        "  def __init__(self, return_all = False):\n",
        "    if return_all:\n",
        "      self.return_all = True\n",
        "    else:\n",
        "      self.return_all = False\n",
        "\n",
        "    self.target_files = self.get_file(return_all)\n",
        "    self.tokenizer = self.get_tokenizer()\n",
        "\n",
        "  def get_tokenizer(self):\n",
        "    frames = []\n",
        "    for file in self.files:\n",
        "      if file[-4:] == '.csv':\n",
        "        df = pd.read_csv(file, index_col = 0)\n",
        "        df = df.dropna()\n",
        "        frames.append(df)\n",
        "    res = pd.concat(frames)\n",
        "    tokenizer = Tokenizer(num_words = self.max_words)\n",
        "    print('fitting on corpus')\n",
        "    tokenizer.fit_on_texts(res['article'])\n",
        "    tokenizer.fit_on_texts(res['evidence'])\n",
        "    print('fitting completed')\n",
        "    return tokenizer\n",
        "\n",
        "  def vectorize_data(self, input_arr, t, maxlen):\n",
        "    print('vectorizing data')\n",
        "    input_list = input_arr.tolist() \n",
        "    seq = t.texts_to_sequences(input_list)\n",
        "    output = pad_sequences(seq, maxlen = maxlen)\n",
        "    return output\n",
        "  \n",
        "  def get_file(self, return_all):\n",
        "    if return_all:\n",
        "      target_files = self.files\n",
        "    else:\n",
        "      target_files = []\n",
        "      for file in self.files:\n",
        "        state = input(file + ': y/n?')\n",
        "        if state == 'y':\n",
        "          target_files.append(file)\n",
        "\n",
        "    return target_files\n",
        "  \n",
        "  def load_data(self):\n",
        "    frames = []\n",
        "    for file in self.target_files:\n",
        "        if file[-4:] == '.csv':\n",
        "            df = pd.read_csv(file, index_col = 0)\n",
        "            df = df.dropna()\n",
        "            frames.append(df)\n",
        "\n",
        "    res = pd.concat(frames) #join frames\n",
        "    print('dataframes read')\n",
        "    res = res.sample(frac = 1) #shuffles frame\n",
        "\n",
        "    article = np.asarray(res['article'])\n",
        "    label = np.asarray(res['label'])\n",
        "    evidence = np.asarray(res['evidence'])\n",
        "\n",
        "    split = self.test_split\n",
        "    assert article.shape[0] == label.shape[0]\n",
        "    assert article.shape[0] == evidence.shape[0]\n",
        "    length = article.shape[0]\n",
        "\n",
        "    print('debug 1')\n",
        "\n",
        "    article = self.vectorize_data(article, self.tokenizer, self.maxlen)\n",
        "    evidence = self.vectorize_data(evidence, self.tokenizer, self.maxlen)\n",
        "\n",
        "    print('debug 2')\n",
        "\n",
        "\n",
        "    test_len = int(length * split) * -1\n",
        "    train_data = (article[:test_len], evidence[:test_len], label[:test_len])\n",
        "    test_data = (article[test_len:], evidence[test_len:], label[test_len:])\n",
        "\n",
        "    return train_data, test_data\n",
        "\n",
        "  def get_ratio(self):\n",
        "    true_count = 0\n",
        "    fake_count = 0\n",
        "    for i in range(len(list(self.res['title']))):\n",
        "      if self.res.iloc[i]['label'] == 0:\n",
        "        fake_count += 1\n",
        "      elif self.res.iloc[i]['label']== 1:\n",
        "        true_count += 1 \n",
        "    \n",
        "    return (true_count, fake_count, true_count / fake_count)\n",
        "\n"
      ],
      "execution_count": null,
      "outputs": []
    },
    {
      "cell_type": "code",
      "metadata": {
        "id": "wSig6F2eYSGn",
        "colab_type": "code",
        "colab": {
          "base_uri": "https://localhost:8080/",
          "height": 138
        },
        "outputId": "e0c61830-5e5f-4f5f-f23b-13be91ccea11"
      },
      "source": [
        "data = Data(return_all = True)\n",
        "train_data, test_data = data.load_data()\n",
        "\n",
        "word_index = data.tokenizer.word_index\n",
        "embeddings_index = {}\n",
        "f = open('/content/gdrive/My Drive/My fake news stuff/project/glove/glove.6B.100d.txt')\n",
        "for line in f:\n",
        "    values = line.split()\n",
        "    word = values[0]\n",
        "    coefs = np.asarray(values[1:], dtype='float32')\n",
        "    embeddings_index[word] = coefs\n",
        "f.close()\n",
        "\n",
        "embedding_dim = 100\n",
        "max_words = data.max_words\n",
        "maxlen = data.maxlen\n",
        "embedding_matrix = np.zeros((max_words, embedding_dim))\n",
        "for word, i in word_index.items():\n",
        "    if i < max_words:\n",
        "        embedding_vector = embeddings_index.get(word)\n",
        "        if embedding_vector is not None:\n",
        "            embedding_matrix[i] = embedding_vector"
      ],
      "execution_count": null,
      "outputs": [
        {
          "output_type": "stream",
          "text": [
            "fitting on corpus\n",
            "fitting completed\n",
            "dataframes read\n",
            "debug 1\n",
            "vectorizing data\n",
            "vectorizing data\n",
            "debug 2\n"
          ],
          "name": "stdout"
        }
      ]
    },
    {
      "cell_type": "code",
      "metadata": {
        "id": "63o2M1Fmau6G",
        "colab_type": "code",
        "colab": {}
      },
      "source": [
        "article_in = Input(shape=(500,))\n",
        "embedded_article = Embedding(\n",
        "    max_words, 100, \n",
        "    input_length=500,\n",
        "    embeddings_initializer=Constant(embedding_matrix))(article_in)\n",
        "article_representation = Bidirectional(LSTM(32))(embedded_article)\n",
        "article_representation = Dense(16, activation = 'relu')(article_representation)\n",
        "#article_model = Model(inputs = article_in, outputs=article_representation)\n",
        "\n",
        "evidence_in = Input(shape=(500,))\n",
        "embedded_evidence = Embedding(\n",
        "    max_words, 100, \n",
        "    input_length=500,\n",
        "    embeddings_initializer=Constant(embedding_matrix))(evidence_in)\n",
        "evidence_representation = Bidirectional(LSTM(32))(embedded_evidence)\n",
        "evidence_representation = Dense(16, activation = 'relu')(evidence_representation)\n",
        "#evidence_model = Model(inputs = evidence_in, outputs=evidence_representation)\n",
        "\n",
        "x = keras.layers.concatenate([article_representation, evidence_representation], axis = -1)\n",
        "x = Dense(32, activation = 'relu')(x)\n",
        "comparison = Dense(1, activation = 'sigmoid')(x)\n",
        "\n",
        "pipeline = Model(inputs = [article_in, evidence_in], outputs = comparison)\n",
        "pipeline.compile(\n",
        "            optimizer='rmsprop',\n",
        "            loss='binary_crossentropy',\n",
        "            metrics=['acc', f1_m, precision_m, recall_m])"
      ],
      "execution_count": null,
      "outputs": []
    },
    {
      "cell_type": "code",
      "metadata": {
        "id": "UUHrNNkhsgTW",
        "colab_type": "code",
        "colab": {}
      },
      "source": [
        "from keras.callbacks import EarlyStopping, ModelCheckpoint\n",
        "es = EarlyStopping(\n",
        "      monitor = 'val_loss', \n",
        "      mode = 'min', \n",
        "      verbose = 1, \n",
        "      patience = 1)\n",
        "\n",
        "mc = ModelCheckpoint(\n",
        "      model_file, \n",
        "      monitor = 'val_loss', \n",
        "      mode = 'min', \n",
        "      verbose = 1, \n",
        "      save_best_only = True, \n",
        "      save_weights_only = False)\n"
      ],
      "execution_count": null,
      "outputs": []
    },
    {
      "cell_type": "code",
      "metadata": {
        "id": "zCF39yOV170K",
        "colab_type": "code",
        "colab": {
          "base_uri": "https://localhost:8080/",
          "height": 557
        },
        "outputId": "9f4a09f1-e060-4dae-d5a4-f42247399e81"
      },
      "source": [
        "class_weight = {\n",
        "    0 : 1,\n",
        "    1 : 2.5\n",
        "}\n",
        "\n",
        "history = pipeline.fit(\n",
        "    [train_data[0], train_data[1]],\n",
        "    train_data[-1],\n",
        "    epochs=20,\n",
        "    validation_split=0.1,\n",
        "    batch_size = 512,\n",
        "    callbacks = [es, mc],\n",
        "    class_weight = class_weight\n",
        "    )"
      ],
      "execution_count": null,
      "outputs": [
        {
          "output_type": "stream",
          "text": [
            "Train on 105607 samples, validate on 11735 samples\n",
            "Epoch 1/20\n",
            "105607/105607 [==============================] - 1294s 12ms/step - loss: 0.9150 - acc: 0.6028 - f1_m: 0.5070 - precision_m: 0.4280 - recall_m: 0.6903 - val_loss: 0.7485 - val_acc: 0.7675 - val_f1_m: 0.6510 - val_precision_m: 0.5951 - val_recall_m: 0.7202\n",
            "\n",
            "Epoch 00001: val_loss improved from inf to 0.74849, saving model to /content/gdrive/My Drive/My fake news stuff/project/results/comparison/comparison_BiLSTM.h5\n",
            "Epoch 2/20\n",
            "105607/105607 [==============================] - 1283s 12ms/step - loss: 0.5839 - acc: 0.8123 - f1_m: 0.7288 - precision_m: 0.6640 - recall_m: 0.8360 - val_loss: 0.5562 - val_acc: 0.7726 - val_f1_m: 0.7180 - val_precision_m: 0.5733 - val_recall_m: 0.9615\n",
            "\n",
            "Epoch 00002: val_loss improved from 0.74849 to 0.55621, saving model to /content/gdrive/My Drive/My fake news stuff/project/results/comparison/comparison_BiLSTM.h5\n",
            "Epoch 3/20\n",
            "105607/105607 [==============================] - 1281s 12ms/step - loss: 0.3250 - acc: 0.9035 - f1_m: 0.8508 - precision_m: 0.7999 - recall_m: 0.9174 - val_loss: 0.2973 - val_acc: 0.9076 - val_f1_m: 0.8587 - val_precision_m: 0.7954 - val_recall_m: 0.9341\n",
            "\n",
            "Epoch 00003: val_loss improved from 0.55621 to 0.29733, saving model to /content/gdrive/My Drive/My fake news stuff/project/results/comparison/comparison_BiLSTM.h5\n",
            "Epoch 4/20\n",
            "105607/105607 [==============================] - 1283s 12ms/step - loss: 0.2020 - acc: 0.9402 - f1_m: 0.9044 - precision_m: 0.8648 - recall_m: 0.9513 - val_loss: 0.2266 - val_acc: 0.9323 - val_f1_m: 0.8940 - val_precision_m: 0.8462 - val_recall_m: 0.9481\n",
            "\n",
            "Epoch 00004: val_loss improved from 0.29733 to 0.22659, saving model to /content/gdrive/My Drive/My fake news stuff/project/results/comparison/comparison_BiLSTM.h5\n",
            "Epoch 5/20\n",
            "105607/105607 [==============================] - 1282s 12ms/step - loss: 0.1385 - acc: 0.9589 - f1_m: 0.9334 - precision_m: 0.9030 - recall_m: 0.9676 - val_loss: 0.2103 - val_acc: 0.9355 - val_f1_m: 0.8992 - val_precision_m: 0.8488 - val_recall_m: 0.9564\n",
            "\n",
            "Epoch 00005: val_loss improved from 0.22659 to 0.21030, saving model to /content/gdrive/My Drive/My fake news stuff/project/results/comparison/comparison_BiLSTM.h5\n",
            "Epoch 6/20\n",
            "105607/105607 [==============================] - 1283s 12ms/step - loss: 0.1026 - acc: 0.9706 - f1_m: 0.9517 - precision_m: 0.9283 - recall_m: 0.9775 - val_loss: 0.2094 - val_acc: 0.9359 - val_f1_m: 0.9010 - val_precision_m: 0.8421 - val_recall_m: 0.9695\n",
            "\n",
            "Epoch 00006: val_loss improved from 0.21030 to 0.20944, saving model to /content/gdrive/My Drive/My fake news stuff/project/results/comparison/comparison_BiLSTM.h5\n",
            "Epoch 7/20\n",
            "105607/105607 [==============================] - 1284s 12ms/step - loss: 0.0745 - acc: 0.9791 - f1_m: 0.9654 - precision_m: 0.9477 - recall_m: 0.9846 - val_loss: 0.2172 - val_acc: 0.9507 - val_f1_m: 0.9185 - val_precision_m: 0.9123 - val_recall_m: 0.9251\n",
            "\n",
            "Epoch 00007: val_loss did not improve from 0.20944\n",
            "Epoch 00007: early stopping\n"
          ],
          "name": "stdout"
        }
      ]
    }
  ]
}