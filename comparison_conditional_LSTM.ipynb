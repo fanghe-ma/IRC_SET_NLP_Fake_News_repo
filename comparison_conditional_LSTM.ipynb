{
  "nbformat": 4,
  "nbformat_minor": 0,
  "metadata": {
    "colab": {
      "name": "comparison_conditional_LSTM.ipynb",
      "provenance": [],
      "collapsed_sections": [],
      "include_colab_link": true
    },
    "kernelspec": {
      "name": "python3",
      "display_name": "Python 3"
    },
    "accelerator": "TPU"
  },
  "cells": [
    {
      "cell_type": "markdown",
      "metadata": {
        "id": "view-in-github",
        "colab_type": "text"
      },
      "source": [
        "<a href=\"https://colab.research.google.com/github/fanghe-ma/IRC_SET_NLP_Fake_News_repo/blob/master/comparison_conditional_LSTM.ipynb\" target=\"_parent\"><img src=\"https://colab.research.google.com/assets/colab-badge.svg\" alt=\"Open In Colab\"/></a>"
      ]
    },
    {
      "cell_type": "code",
      "metadata": {
        "id": "qLID_I5NgMMC",
        "colab_type": "code",
        "colab": {
          "base_uri": "https://localhost:8080/",
          "height": 124
        },
        "outputId": "29c73082-41ae-4064-a552-8921380c41f3"
      },
      "source": [
        "from google.colab import drive\n",
        "drive.mount('/content/gdrive')"
      ],
      "execution_count": null,
      "outputs": [
        {
          "output_type": "stream",
          "text": [
            "Go to this URL in a browser: https://accounts.google.com/o/oauth2/auth?client_id=947318989803-6bn6qk8qdgf4n4g3pfee6491hc0brc4i.apps.googleusercontent.com&redirect_uri=urn%3aietf%3awg%3aoauth%3a2.0%3aoob&response_type=code&scope=email%20https%3a%2f%2fwww.googleapis.com%2fauth%2fdocs.test%20https%3a%2f%2fwww.googleapis.com%2fauth%2fdrive%20https%3a%2f%2fwww.googleapis.com%2fauth%2fdrive.photos.readonly%20https%3a%2f%2fwww.googleapis.com%2fauth%2fpeopleapi.readonly\n",
            "\n",
            "Enter your authorization code:\n",
            "··········\n",
            "Mounted at /content/gdrive\n"
          ],
          "name": "stdout"
        }
      ]
    },
    {
      "cell_type": "code",
      "metadata": {
        "id": "exOCspS0aKEB",
        "colab_type": "code",
        "colab": {
          "base_uri": "https://localhost:8080/",
          "height": 34
        },
        "outputId": "7e64c459-dc9b-40ed-9a39-d3f994992eaf"
      },
      "source": [
        "from keras import backend as K\n",
        "import pandas as pd\n",
        "import numpy as np\n",
        "import os\n",
        "from keras.preprocessing.text import Tokenizer\n",
        "from keras.preprocessing.sequence import pad_sequences\n",
        "import keras\n",
        "from keras.models import Sequential, Model, load_model\n",
        "from keras.layers import Dense, Embedding, Flatten, LSTM, Input, Bidirectional\n",
        "from keras.callbacks import EarlyStopping, ModelCheckpoint\n",
        "from sklearn.metrics import confusion_matrix as cm\n",
        "from keras.initializers import Constant\n",
        "\n",
        "model_file = '/content/gdrive/My Drive/My fake news stuff/project/results/comparison/comparison_conditional_LSTM.h5'"
      ],
      "execution_count": null,
      "outputs": [
        {
          "output_type": "stream",
          "text": [
            "Using TensorFlow backend.\n"
          ],
          "name": "stderr"
        }
      ]
    },
    {
      "cell_type": "code",
      "metadata": {
        "id": "NgXaSKpRXs2I",
        "colab_type": "code",
        "colab": {}
      },
      "source": [
        "def recall_m(y_true, y_pred):\n",
        "        true_positives = K.sum(K.round(K.clip(y_true * y_pred, 0, 1)))\n",
        "        possible_positives = K.sum(K.round(K.clip(y_true, 0, 1)))\n",
        "        recall = true_positives / (possible_positives + K.epsilon())\n",
        "        return recall\n",
        "\n",
        "def precision_m(y_true, y_pred):\n",
        "        true_positives = K.sum(K.round(K.clip(y_true * y_pred, 0, 1)))\n",
        "        predicted_positives = K.sum(K.round(K.clip(y_pred, 0, 1)))\n",
        "        precision = true_positives / (predicted_positives + K.epsilon())\n",
        "        return precision\n",
        "\n",
        "def f1_m(y_true, y_pred):\n",
        "    precision = precision_m(y_true, y_pred)\n",
        "    recall = recall_m(y_true, y_pred)\n",
        "    return 2*((precision*recall)/(precision+recall+K.epsilon()))\n",
        "\n",
        "class Data():\n",
        "  '''\n",
        "  Data object to facilitate loading data for training or testing\n",
        "\n",
        "  3 data files\n",
        "  popat_2019_res.csv - evi from Popat et al., 2019,, claim vs evidence/reporting article\n",
        "  popat_2019_modified_res.csv - evi from google, 'distant supervision', article vs evidence\n",
        "  liar_res.csv - evi from google, claim vs evidence \n",
        "\n",
        "  instantiating a data object takes one argument\n",
        "    mode :\n",
        "      all : returns all 3 datasets, merged and shuffled\n",
        "      \n",
        "  '''\n",
        "\n",
        "  files = ['/content/gdrive/My Drive/My fake news stuff/project/data/' + file for file in os.listdir('/content/gdrive/My Drive/My fake news stuff/project/data')]\n",
        "  test_split = 0.1\n",
        "  max_words = 60000\n",
        "  maxlen = 500\n",
        "\n",
        "\n",
        "  def __init__(self, return_all = False):\n",
        "    if return_all:\n",
        "      self.return_all = True\n",
        "    else:\n",
        "      self.return_all = False\n",
        "\n",
        "    self.target_files = self.get_file(return_all)\n",
        "    self.tokenizer = self.get_tokenizer()\n",
        "\n",
        "  def get_tokenizer(self):\n",
        "    frames = []\n",
        "    for file in self.files:\n",
        "      if file[-4:] == '.csv':\n",
        "        df = pd.read_csv(file, index_col = 0)\n",
        "        df = df.dropna()\n",
        "        frames.append(df)\n",
        "    res = pd.concat(frames)\n",
        "    tokenizer = Tokenizer(num_words = self.max_words)\n",
        "    print('fitting on corpus')\n",
        "    tokenizer.fit_on_texts(res['article'])\n",
        "    tokenizer.fit_on_texts(res['evidence'])\n",
        "    print('fitting completed')\n",
        "    return tokenizer\n",
        "\n",
        "  def vectorize_data(self, input_arr, t, maxlen):\n",
        "    print('vectorizing data')\n",
        "    input_list = input_arr.tolist() \n",
        "    seq = t.texts_to_sequences(input_list)\n",
        "    output = pad_sequences(seq, maxlen = maxlen)\n",
        "    return output\n",
        "  \n",
        "  def get_file(self, return_all):\n",
        "    if return_all:\n",
        "      target_files = self.files\n",
        "    else:\n",
        "      target_files = []\n",
        "      for file in self.files:\n",
        "        state = input(file + ': y/n?')\n",
        "        if state == 'y':\n",
        "          target_files.append(file)\n",
        "\n",
        "    return target_files\n",
        "  \n",
        "  def load_data(self):\n",
        "    frames = []\n",
        "    for file in self.target_files:\n",
        "        if file[-4:] == '.csv':\n",
        "            df = pd.read_csv(file, index_col = 0)\n",
        "            df = df.dropna()\n",
        "            frames.append(df)\n",
        "\n",
        "    res = pd.concat(frames) #join frames\n",
        "    print('dataframes read')\n",
        "    res = res.sample(frac = 1) #shuffles frame\n",
        "\n",
        "    article = np.asarray(res['article'])\n",
        "    label = np.asarray(res['label'])\n",
        "    evidence = np.asarray(res['evidence'])\n",
        "\n",
        "    split = self.test_split\n",
        "    assert article.shape[0] == label.shape[0]\n",
        "    assert article.shape[0] == evidence.shape[0]\n",
        "    length = article.shape[0]\n",
        "\n",
        "    print('debug 1')\n",
        "\n",
        "    article = self.vectorize_data(article, self.tokenizer, self.maxlen)\n",
        "    evidence = self.vectorize_data(evidence, self.tokenizer, self.maxlen)\n",
        "\n",
        "    print('debug 2')\n",
        "\n",
        "\n",
        "    test_len = int(length * split) * -1\n",
        "    train_data = (article[:test_len], evidence[:test_len], label[:test_len])\n",
        "    test_data = (article[test_len:], evidence[test_len:], label[test_len:])\n",
        "\n",
        "    return train_data, test_data\n",
        "\n",
        "  def get_ratio(self):\n",
        "    true_count = 0\n",
        "    fake_count = 0\n",
        "    for i in range(len(list(self.res['title']))):\n",
        "      if self.res.iloc[i]['label'] == 0:\n",
        "        fake_count += 1\n",
        "      elif self.res.iloc[i]['label']== 1:\n",
        "        true_count += 1 \n",
        "    \n",
        "    return (true_count, fake_count, true_count / fake_count)\n",
        "\n"
      ],
      "execution_count": null,
      "outputs": []
    },
    {
      "cell_type": "code",
      "metadata": {
        "id": "wSig6F2eYSGn",
        "colab_type": "code",
        "colab": {
          "base_uri": "https://localhost:8080/",
          "height": 138
        },
        "outputId": "db9f9b41-cf52-4bf5-f869-76a1be8c4912"
      },
      "source": [
        "data = Data(return_all = True)\n",
        "train_data, test_data = data.load_data()\n",
        "\n",
        "word_index = data.tokenizer.word_index\n",
        "embeddings_index = {}\n",
        "f = open('/content/gdrive/My Drive/My fake news stuff/project/glove/glove.6B.100d.txt')\n",
        "for line in f:\n",
        "    values = line.split()\n",
        "    word = values[0]\n",
        "    coefs = np.asarray(values[1:], dtype='float32')\n",
        "    embeddings_index[word] = coefs\n",
        "f.close()\n",
        "\n",
        "embedding_dim = 100\n",
        "max_words = data.max_words\n",
        "maxlen = data.maxlen\n",
        "embedding_matrix = np.zeros((max_words, embedding_dim))\n",
        "for word, i in word_index.items():\n",
        "    if i < max_words:\n",
        "        embedding_vector = embeddings_index.get(word)\n",
        "        if embedding_vector is not None:\n",
        "            embedding_matrix[i] = embedding_vector"
      ],
      "execution_count": null,
      "outputs": [
        {
          "output_type": "stream",
          "text": [
            "fitting on corpus\n",
            "fitting completed\n",
            "dataframes read\n",
            "debug 1\n",
            "vectorizing data\n",
            "vectorizing data\n",
            "debug 2\n"
          ],
          "name": "stdout"
        }
      ]
    },
    {
      "cell_type": "code",
      "metadata": {
        "id": "63o2M1Fmau6G",
        "colab_type": "code",
        "colab": {
          "base_uri": "https://localhost:8080/",
          "height": 158
        },
        "outputId": "ac07f928-1663-436a-a005-c28bffc09910"
      },
      "source": [
        "article_in = Input(shape=(500,))\n",
        "embedded_article = Embedding(\n",
        "    max_words, 100, \n",
        "    input_length=500,\n",
        "    embeddings_initializer=Constant(embedding_matrix))(article_in)\n",
        "a, b, c = LSTM(32, return_state = True)(embedded_article)\n",
        "encoder_states = [b, c]\n",
        "\n",
        "evidence_in = Input(shape=(500,))\n",
        "embedded_evidence = Embedding(\n",
        "    max_words, 100, \n",
        "    input_length=500,\n",
        "    embeddings_initializer=Constant(embedding_matrix))(evidence_in)\n",
        "\n",
        "\n",
        "lstm = LSTM(32)\n",
        "evidence_representation = lstm(embedded_evidence, initial_state = encoder_states)\n",
        "evidence_representation = Dense(16, activation = 'relu')(evidence_representation)\n",
        "comparison = Dense(1, activation = 'sigmoid')(evidence_representation)\n",
        "#evidence_model = Model(inputs = evidence_in, outputs=evidence_representation)\n",
        "\n",
        "pipeline = Model(inputs = [article_in, evidence_in], outputs = comparison)\n",
        "pipeline.compile(\n",
        "            optimizer='rmsprop',\n",
        "            loss='binary_crossentropy',\n",
        "            metrics=['acc', f1_m, precision_m, recall_m])"
      ],
      "execution_count": null,
      "outputs": [
        {
          "output_type": "stream",
          "text": [
            "WARNING:tensorflow:From /usr/local/lib/python3.6/dist-packages/keras/optimizers.py:793: The name tf.train.Optimizer is deprecated. Please use tf.compat.v1.train.Optimizer instead.\n",
            "\n",
            "WARNING:tensorflow:From /usr/local/lib/python3.6/dist-packages/keras/backend/tensorflow_backend.py:3657: The name tf.log is deprecated. Please use tf.math.log instead.\n",
            "\n",
            "WARNING:tensorflow:From /usr/local/lib/python3.6/dist-packages/tensorflow_core/python/ops/nn_impl.py:183: where (from tensorflow.python.ops.array_ops) is deprecated and will be removed in a future version.\n",
            "Instructions for updating:\n",
            "Use tf.where in 2.0, which has the same broadcast rule as np.where\n"
          ],
          "name": "stdout"
        }
      ]
    },
    {
      "cell_type": "code",
      "metadata": {
        "id": "UUHrNNkhsgTW",
        "colab_type": "code",
        "colab": {}
      },
      "source": [
        "from keras.callbacks import EarlyStopping, ModelCheckpoint\n",
        "es = EarlyStopping(\n",
        "      monitor = 'val_loss', \n",
        "      mode = 'min', \n",
        "      verbose = 1, \n",
        "      patience = 1)\n",
        "\n",
        "mc = ModelCheckpoint(\n",
        "      model_file, \n",
        "      monitor = 'val_loss', \n",
        "      mode = 'min', \n",
        "      verbose = 1, \n",
        "      save_best_only = True, \n",
        "      save_weights_only = False)\n"
      ],
      "execution_count": null,
      "outputs": []
    },
    {
      "cell_type": "code",
      "metadata": {
        "id": "zCF39yOV170K",
        "colab_type": "code",
        "colab": {
          "base_uri": "https://localhost:8080/",
          "height": 765
        },
        "outputId": "de4d1bd2-5ed6-40a8-f51d-bba727a7fb07"
      },
      "source": [
        "class_weight = {\n",
        "    0 : 1,\n",
        "    1 : 2.5\n",
        "}\n",
        "\n",
        "history = pipeline.fit(\n",
        "    [train_data[0], train_data[1]],\n",
        "    train_data[-1],\n",
        "    epochs=20,\n",
        "    validation_split=0.1,\n",
        "    batch_size = 512,\n",
        "    callbacks = [es, mc],\n",
        "    class_weight = class_weight\n",
        "    )"
      ],
      "execution_count": null,
      "outputs": [
        {
          "output_type": "stream",
          "text": [
            "WARNING:tensorflow:From /usr/local/lib/python3.6/dist-packages/keras/backend/tensorflow_backend.py:1033: The name tf.assign_add is deprecated. Please use tf.compat.v1.assign_add instead.\n",
            "\n",
            "WARNING:tensorflow:From /usr/local/lib/python3.6/dist-packages/keras/backend/tensorflow_backend.py:1020: The name tf.assign is deprecated. Please use tf.compat.v1.assign instead.\n",
            "\n",
            "WARNING:tensorflow:From /usr/local/lib/python3.6/dist-packages/keras/backend/tensorflow_backend.py:3005: The name tf.Session is deprecated. Please use tf.compat.v1.Session instead.\n",
            "\n",
            "Train on 105607 samples, validate on 11735 samples\n",
            "Epoch 1/20\n",
            "WARNING:tensorflow:From /usr/local/lib/python3.6/dist-packages/keras/backend/tensorflow_backend.py:190: The name tf.get_default_session is deprecated. Please use tf.compat.v1.get_default_session instead.\n",
            "\n",
            "WARNING:tensorflow:From /usr/local/lib/python3.6/dist-packages/keras/backend/tensorflow_backend.py:197: The name tf.ConfigProto is deprecated. Please use tf.compat.v1.ConfigProto instead.\n",
            "\n",
            "WARNING:tensorflow:From /usr/local/lib/python3.6/dist-packages/keras/backend/tensorflow_backend.py:207: The name tf.global_variables is deprecated. Please use tf.compat.v1.global_variables instead.\n",
            "\n",
            "WARNING:tensorflow:From /usr/local/lib/python3.6/dist-packages/keras/backend/tensorflow_backend.py:216: The name tf.is_variable_initialized is deprecated. Please use tf.compat.v1.is_variable_initialized instead.\n",
            "\n",
            "WARNING:tensorflow:From /usr/local/lib/python3.6/dist-packages/keras/backend/tensorflow_backend.py:223: The name tf.variables_initializer is deprecated. Please use tf.compat.v1.variables_initializer instead.\n",
            "\n",
            "105607/105607 [==============================] - 675s 6ms/step - loss: 0.9526 - acc: 0.5724 - f1_m: 0.4701 - precision_m: 0.3868 - recall_m: 0.6493 - val_loss: 0.8708 - val_acc: 0.7170 - val_f1_m: 0.5471 - val_precision_m: 0.5199 - val_recall_m: 0.5799\n",
            "\n",
            "Epoch 00001: val_loss improved from inf to 0.87084, saving model to /content/gdrive/My Drive/My fake news stuff/project/results/comparison/comparison_conditional_LSTM.h5\n",
            "Epoch 2/20\n",
            "105607/105607 [==============================] - 657s 6ms/step - loss: 0.7316 - acc: 0.7428 - f1_m: 0.6421 - precision_m: 0.5613 - recall_m: 0.7763 - val_loss: 0.6597 - val_acc: 0.7388 - val_f1_m: 0.6654 - val_precision_m: 0.5356 - val_recall_m: 0.8800\n",
            "\n",
            "Epoch 00002: val_loss improved from 0.87084 to 0.65972, saving model to /content/gdrive/My Drive/My fake news stuff/project/results/comparison/comparison_conditional_LSTM.h5\n",
            "Epoch 3/20\n",
            "105607/105607 [==============================] - 658s 6ms/step - loss: 0.5060 - acc: 0.8420 - f1_m: 0.7614 - precision_m: 0.6948 - recall_m: 0.8509 - val_loss: 0.5239 - val_acc: 0.8336 - val_f1_m: 0.7482 - val_precision_m: 0.6764 - val_recall_m: 0.8384\n",
            "\n",
            "Epoch 00003: val_loss improved from 0.65972 to 0.52385, saving model to /content/gdrive/My Drive/My fake news stuff/project/results/comparison/comparison_conditional_LSTM.h5\n",
            "Epoch 4/20\n",
            "105607/105607 [==============================] - 656s 6ms/step - loss: 0.3822 - acc: 0.8839 - f1_m: 0.8203 - precision_m: 0.7609 - recall_m: 0.8951 - val_loss: 0.4677 - val_acc: 0.8564 - val_f1_m: 0.7797 - val_precision_m: 0.7128 - val_recall_m: 0.8614\n",
            "\n",
            "Epoch 00004: val_loss improved from 0.52385 to 0.46768, saving model to /content/gdrive/My Drive/My fake news stuff/project/results/comparison/comparison_conditional_LSTM.h5\n",
            "Epoch 5/20\n",
            "105607/105607 [==============================] - 655s 6ms/step - loss: 0.3020 - acc: 0.9096 - f1_m: 0.8576 - precision_m: 0.8042 - recall_m: 0.9220 - val_loss: 0.4589 - val_acc: 0.8328 - val_f1_m: 0.7630 - val_precision_m: 0.6561 - val_recall_m: 0.9127\n",
            "\n",
            "Epoch 00005: val_loss improved from 0.46768 to 0.45888, saving model to /content/gdrive/My Drive/My fake news stuff/project/results/comparison/comparison_conditional_LSTM.h5\n",
            "Epoch 6/20\n",
            "105607/105607 [==============================] - 667s 6ms/step - loss: 0.2475 - acc: 0.9268 - f1_m: 0.8832 - precision_m: 0.8371 - recall_m: 0.9374 - val_loss: 0.5272 - val_acc: 0.8869 - val_f1_m: 0.8105 - val_precision_m: 0.8017 - val_recall_m: 0.8207\n",
            "\n",
            "Epoch 00006: val_loss did not improve from 0.45888\n",
            "Epoch 00006: early stopping\n"
          ],
          "name": "stdout"
        }
      ]
    }
  ]
}